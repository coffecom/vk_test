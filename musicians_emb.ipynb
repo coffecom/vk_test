{
 "cells": [
  {
   "cell_type": "code",
   "execution_count": 146,
   "metadata": {},
   "outputs": [],
   "source": [
    "import json\n",
    "import pandas as pd\n",
    "import numpy as np\n",
    "import urllib\n",
    "import pickle\n",
    "import matplotlib.pyplot as plt\n",
    "import math\n",
    "# import seaborn as sns\n",
    "\n",
    "import torch\n",
    "import torch.nn as nn\n",
    "import torch.nn.functional as F\n",
    "import torch.optim as optim\n",
    "from torch.utils.data import Dataset\n",
    "from torchvision.transforms import transforms\n",
    "from torch.utils.data import DataLoader\n",
    "from torch.utils.data import random_split"
   ]
  },
  {
   "cell_type": "markdown",
   "metadata": {},
   "source": [
    "Для меня это всё был новый материал для изучения и имплементации, так что часть времени была потрачена на просмотр лекций и чтения статей"
   ]
  },
  {
   "cell_type": "code",
   "execution_count": 2,
   "metadata": {},
   "outputs": [],
   "source": [
    "# данные были размещены в корне папки, т.е. рядом с ноутбуком лежали папки entities и relations\n",
    "\n",
    "persons_path = \"entities/persons.idomaar\" \n",
    "tracks_path = \"entities/tracks.idomaar\"\n",
    "sessions_path = \"relations/sessions.idomaar\"\n",
    "albums_path = \"entities/albums.idomaar\" \n",
    "\n",
    "use_cuda = torch.cuda.is_available()\n",
    "device = torch.device(\"cuda:0\" if use_cuda else \"cpu\")\n",
    "BATCH_SIZE = 8"
   ]
  },
  {
   "cell_type": "markdown",
   "metadata": {},
   "source": [
    "Сразу про задачу. Мы представляем список прослушивания как предложение в классическом NLP, т.е. последовательность исполнителей это как последовательность слов."
   ]
  },
  {
   "cell_type": "markdown",
   "metadata": {},
   "source": [
    "Для начала я нашла все \"\" и заменила на \\\" все кавычки не относящиеся к json, что бы посмотреть на данные и понять их размеры, удалила несколько ячеек, где я просто смотрела на структуру данных и пыталась вытаскивать полезные данные."
   ]
  },
  {
   "cell_type": "code",
   "execution_count": 20,
   "metadata": {},
   "outputs": [
    {
     "data": {
      "text/plain": [
       "2764474"
      ]
     },
     "execution_count": 20,
     "metadata": {},
     "output_type": "execute_result"
    }
   ],
   "source": [
    "fp = open(albums_path, 'r')\n",
    "counter = 0\n",
    "for line in fp:\n",
    "    arr = line.split(\"\\t\")\n",
    "    counter +=1\n",
    "    if arr[3].count('\"') > 8:        \n",
    "        arr[3]  = arr[3].replace('\"\"', '\\\\\"\"', )\n",
    "        index = arr[3].replace('\"', 'X', 7).find('\"')\n",
    "        arr[3] = arr[3][:index] + '\\\\\"' +arr[3][index+1:]\n",
    "counter"
   ]
  },
  {
   "cell_type": "markdown",
   "metadata": {},
   "source": [
    "Сохраним словарь вида трек-исполнитель для быстрого доступа к исполнителям"
   ]
  },
  {
   "cell_type": "code",
   "execution_count": 15,
   "metadata": {
    "collapsed": true
   },
   "outputs": [
    {
     "ename": "KeyboardInterrupt",
     "evalue": "",
     "output_type": "error",
     "traceback": [
      "\u001b[1;31m---------------------------------------------------------------------------\u001b[0m",
      "\u001b[1;31mKeyboardInterrupt\u001b[0m                         Traceback (most recent call last)",
      "\u001b[1;32m<ipython-input-15-c561ba232e18>\u001b[0m in \u001b[0;36m<module>\u001b[1;34m\u001b[0m\n\u001b[0;32m      1\u001b[0m \u001b[0mtrack_person_dict\u001b[0m \u001b[1;33m=\u001b[0m \u001b[1;33m{\u001b[0m\u001b[1;33m}\u001b[0m\u001b[1;33m\u001b[0m\u001b[1;33m\u001b[0m\u001b[0m\n\u001b[0;32m      2\u001b[0m \u001b[0mfp\u001b[0m \u001b[1;33m=\u001b[0m \u001b[0mopen\u001b[0m\u001b[1;33m(\u001b[0m\u001b[0mtracks_path\u001b[0m\u001b[1;33m,\u001b[0m \u001b[1;34m'r'\u001b[0m\u001b[1;33m)\u001b[0m\u001b[1;33m\u001b[0m\u001b[1;33m\u001b[0m\u001b[0m\n\u001b[1;32m----> 3\u001b[1;33m \u001b[1;32mfor\u001b[0m \u001b[0mline\u001b[0m \u001b[1;32min\u001b[0m \u001b[0mfp\u001b[0m\u001b[1;33m:\u001b[0m\u001b[1;33m\u001b[0m\u001b[1;33m\u001b[0m\u001b[0m\n\u001b[0m\u001b[0;32m      4\u001b[0m     \u001b[0marr\u001b[0m \u001b[1;33m=\u001b[0m \u001b[0mline\u001b[0m\u001b[1;33m.\u001b[0m\u001b[0msplit\u001b[0m\u001b[1;33m(\u001b[0m\u001b[1;34m\"\\t\"\u001b[0m\u001b[1;33m)\u001b[0m\u001b[1;33m\u001b[0m\u001b[1;33m\u001b[0m\u001b[0m\n\u001b[0;32m      5\u001b[0m     \u001b[0mtrack_person_dict\u001b[0m\u001b[1;33m[\u001b[0m\u001b[0marr\u001b[0m\u001b[1;33m[\u001b[0m\u001b[1;36m1\u001b[0m\u001b[1;33m]\u001b[0m\u001b[1;33m]\u001b[0m \u001b[1;33m=\u001b[0m \u001b[0mjson\u001b[0m\u001b[1;33m.\u001b[0m\u001b[0mloads\u001b[0m\u001b[1;33m(\u001b[0m\u001b[0marr\u001b[0m\u001b[1;33m[\u001b[0m\u001b[1;36m4\u001b[0m\u001b[1;33m]\u001b[0m\u001b[1;33m)\u001b[0m\u001b[1;33m[\u001b[0m\u001b[1;34m'artists'\u001b[0m\u001b[1;33m]\u001b[0m\u001b[1;33m[\u001b[0m\u001b[1;36m0\u001b[0m\u001b[1;33m]\u001b[0m\u001b[1;33m[\u001b[0m\u001b[1;34m'id'\u001b[0m\u001b[1;33m]\u001b[0m\u001b[1;33m\u001b[0m\u001b[1;33m\u001b[0m\u001b[0m\n",
      "\u001b[1;32m~\\anaconda3\\lib\\encodings\\cp1251.py\u001b[0m in \u001b[0;36mdecode\u001b[1;34m(self, input, final)\u001b[0m\n\u001b[0;32m     20\u001b[0m \u001b[1;33m\u001b[0m\u001b[0m\n\u001b[0;32m     21\u001b[0m \u001b[1;32mclass\u001b[0m \u001b[0mIncrementalDecoder\u001b[0m\u001b[1;33m(\u001b[0m\u001b[0mcodecs\u001b[0m\u001b[1;33m.\u001b[0m\u001b[0mIncrementalDecoder\u001b[0m\u001b[1;33m)\u001b[0m\u001b[1;33m:\u001b[0m\u001b[1;33m\u001b[0m\u001b[1;33m\u001b[0m\u001b[0m\n\u001b[1;32m---> 22\u001b[1;33m     \u001b[1;32mdef\u001b[0m \u001b[0mdecode\u001b[0m\u001b[1;33m(\u001b[0m\u001b[0mself\u001b[0m\u001b[1;33m,\u001b[0m \u001b[0minput\u001b[0m\u001b[1;33m,\u001b[0m \u001b[0mfinal\u001b[0m\u001b[1;33m=\u001b[0m\u001b[1;32mFalse\u001b[0m\u001b[1;33m)\u001b[0m\u001b[1;33m:\u001b[0m\u001b[1;33m\u001b[0m\u001b[1;33m\u001b[0m\u001b[0m\n\u001b[0m\u001b[0;32m     23\u001b[0m         \u001b[1;32mreturn\u001b[0m \u001b[0mcodecs\u001b[0m\u001b[1;33m.\u001b[0m\u001b[0mcharmap_decode\u001b[0m\u001b[1;33m(\u001b[0m\u001b[0minput\u001b[0m\u001b[1;33m,\u001b[0m\u001b[0mself\u001b[0m\u001b[1;33m.\u001b[0m\u001b[0merrors\u001b[0m\u001b[1;33m,\u001b[0m\u001b[0mdecoding_table\u001b[0m\u001b[1;33m)\u001b[0m\u001b[1;33m[\u001b[0m\u001b[1;36m0\u001b[0m\u001b[1;33m]\u001b[0m\u001b[1;33m\u001b[0m\u001b[1;33m\u001b[0m\u001b[0m\n\u001b[0;32m     24\u001b[0m \u001b[1;33m\u001b[0m\u001b[0m\n",
      "\u001b[1;31mKeyboardInterrupt\u001b[0m: "
     ]
    }
   ],
   "source": [
    "track_person_dict = {}\n",
    "fp = open(tracks_path, 'r')\n",
    "for line in fp:\n",
    "    arr = line.split(\"\\t\")\n",
    "    track_person_dict[arr[1]] = json.loads(arr[4])['artists'][0]['id']\n",
    "with open('track_person_dict.pkl', 'wb') as f:\n",
    "    pickle.dump(track_person_dict, f, pickle.HIGHEST_PROTOCOL)"
   ]
  },
  {
   "cell_type": "code",
   "execution_count": 198,
   "metadata": {},
   "outputs": [],
   "source": [
    "with open('track_person_dict.pkl', 'rb') as f:\n",
    "    track_person_dict = pickle.load(f)"
   ]
  },
  {
   "cell_type": "code",
   "execution_count": 203,
   "metadata": {},
   "outputs": [
    {
     "name": "stdout",
     "output_type": "stream",
     "text": [
      "Количество исполнителей:  560925\n"
     ]
    }
   ],
   "source": [
    "persons = (list(set(track_person_dict.values())))\n",
    "print(\"Количество исполнителей: \", len(persons ))"
   ]
  },
  {
   "cell_type": "markdown",
   "metadata": {},
   "source": [
    "Сохраним данные в виде 'session_id','time','artist_id','playtime' в CSV файл (спойлер: это было не нужно)"
   ]
  },
  {
   "cell_type": "code",
   "execution_count": 25,
   "metadata": {},
   "outputs": [
    {
     "name": "stdout",
     "output_type": "stream",
     "text": [
      "-> (80079, 4)-> (160110, 4)-> (240330, 4)-> (320243, 4)-> (400220, 4)-> (480110, 4)-> (559989, 4)-> (640280, 4)-> (720667, 4)-> (800881, 4)-> (880944, 4)-> (961053, 4)-> (1040960, 4)-> (1121173, 4)-> (1201302, 4)-> (1281696, 4)-> (1361756, 4)-> (1441866, 4)-> (1521821, 4)-> (1601814, 4)-> (1682099, 4)-> (1762109, 4)-> (1842173, 4)-> (1922341, 4)-> (2002336, 4)-> (2082240, 4)-> (2162253, 4)"
     ]
    }
   ],
   "source": [
    "full_df = pd.DataFrame(columns = ['session_id','time','artist_id','playtime'])\n",
    "full = {}\n",
    "\n",
    "fp = open(sessions_path, 'r')\n",
    "counter = 0\n",
    "for line in fp:\n",
    "#     if counter > 5: break\n",
    "    arr = line.split(\"\\t\")\n",
    "    tracks_dict = json.loads(arr[3].split(' ')[1])\n",
    "    for ob in tracks_dict['objects']:\n",
    "        if ob['action'] == 'play':\n",
    "                full[counter] = {'session_id':arr[1],\n",
    "                                 'time':arr[2],\n",
    "                                 'artist_id': track_person_dict[str(ob['id'])],\n",
    "                                 'playtime':  ob['playtime']}\n",
    "    counter +=1\n",
    "    \n",
    "    if counter % 100000 == 0:\n",
    "        counter = 0\n",
    "        full_df = full_df.append(pd.DataFrame.from_dict(full, \"index\"))\n",
    "        full = {}\n",
    "        print('->',full_df.shape, end='') \n",
    "full_df = full_df.append(pd.DataFrame.from_dict(full, \"index\"))"
   ]
  },
  {
   "cell_type": "code",
   "execution_count": 26,
   "metadata": {},
   "outputs": [
    {
     "data": {
      "text/html": [
       "<div>\n",
       "<style scoped>\n",
       "    .dataframe tbody tr th:only-of-type {\n",
       "        vertical-align: middle;\n",
       "    }\n",
       "\n",
       "    .dataframe tbody tr th {\n",
       "        vertical-align: top;\n",
       "    }\n",
       "\n",
       "    .dataframe thead th {\n",
       "        text-align: right;\n",
       "    }\n",
       "</style>\n",
       "<table border=\"1\" class=\"dataframe\">\n",
       "  <thead>\n",
       "    <tr style=\"text-align: right;\">\n",
       "      <th></th>\n",
       "      <th>session_id</th>\n",
       "      <th>time</th>\n",
       "      <th>artist_id</th>\n",
       "      <th>playtime</th>\n",
       "    </tr>\n",
       "  </thead>\n",
       "  <tbody>\n",
       "    <tr>\n",
       "      <th>0</th>\n",
       "      <td>287144</td>\n",
       "      <td>1390231051</td>\n",
       "      <td>306004</td>\n",
       "      <td>146</td>\n",
       "    </tr>\n",
       "    <tr>\n",
       "      <th>1</th>\n",
       "      <td>287145</td>\n",
       "      <td>1390241844</td>\n",
       "      <td>285794</td>\n",
       "      <td>785</td>\n",
       "    </tr>\n",
       "    <tr>\n",
       "      <th>2</th>\n",
       "      <td>287146</td>\n",
       "      <td>1390303249</td>\n",
       "      <td>15752</td>\n",
       "      <td>218</td>\n",
       "    </tr>\n",
       "    <tr>\n",
       "      <th>3</th>\n",
       "      <td>287147</td>\n",
       "      <td>1390481828</td>\n",
       "      <td>362467</td>\n",
       "      <td>190</td>\n",
       "    </tr>\n",
       "    <tr>\n",
       "      <th>4</th>\n",
       "      <td>287140</td>\n",
       "      <td>1421443687</td>\n",
       "      <td>46425</td>\n",
       "      <td>251</td>\n",
       "    </tr>\n",
       "    <tr>\n",
       "      <th>...</th>\n",
       "      <td>...</td>\n",
       "      <td>...</td>\n",
       "      <td>...</td>\n",
       "      <td>...</td>\n",
       "    </tr>\n",
       "    <tr>\n",
       "      <th>64467</th>\n",
       "      <td>2480035</td>\n",
       "      <td>1407944607</td>\n",
       "      <td>60947</td>\n",
       "      <td>234</td>\n",
       "    </tr>\n",
       "    <tr>\n",
       "      <th>64468</th>\n",
       "      <td>2480036</td>\n",
       "      <td>1407946794</td>\n",
       "      <td>114467</td>\n",
       "      <td>387</td>\n",
       "    </tr>\n",
       "    <tr>\n",
       "      <th>64469</th>\n",
       "      <td>2480037</td>\n",
       "      <td>1407955380</td>\n",
       "      <td>408202</td>\n",
       "      <td>74</td>\n",
       "    </tr>\n",
       "    <tr>\n",
       "      <th>64471</th>\n",
       "      <td>540638</td>\n",
       "      <td>1415960966</td>\n",
       "      <td>318259</td>\n",
       "      <td>319</td>\n",
       "    </tr>\n",
       "    <tr>\n",
       "      <th>64473</th>\n",
       "      <td>2480033</td>\n",
       "      <td>1407939579</td>\n",
       "      <td>195697</td>\n",
       "      <td>136</td>\n",
       "    </tr>\n",
       "  </tbody>\n",
       "</table>\n",
       "<p>2214062 rows × 4 columns</p>\n",
       "</div>"
      ],
      "text/plain": [
       "      session_id        time artist_id playtime\n",
       "0         287144  1390231051    306004      146\n",
       "1         287145  1390241844    285794      785\n",
       "2         287146  1390303249     15752      218\n",
       "3         287147  1390481828    362467      190\n",
       "4         287140  1421443687     46425      251\n",
       "...          ...         ...       ...      ...\n",
       "64467    2480035  1407944607     60947      234\n",
       "64468    2480036  1407946794    114467      387\n",
       "64469    2480037  1407955380    408202       74\n",
       "64471     540638  1415960966    318259      319\n",
       "64473    2480033  1407939579    195697      136\n",
       "\n",
       "[2214062 rows x 4 columns]"
      ]
     },
     "execution_count": 26,
     "metadata": {},
     "output_type": "execute_result"
    }
   ],
   "source": [
    "full_df.to_csv('user_track_artist.csv')\n",
    "full_df"
   ]
  },
  {
   "cell_type": "code",
   "execution_count": 3,
   "metadata": {},
   "outputs": [],
   "source": [
    "full_df = pd.read_csv('user_track_artist.csv')"
   ]
  },
  {
   "cell_type": "code",
   "execution_count": 204,
   "metadata": {},
   "outputs": [],
   "source": [
    "#тут у меня категорически не хватало памяти, поэтому я попробовала урезать список исполнителей и убрать тех кого\n",
    "#мало слушают, но проблема с памятью решилась, также я думала что смогу применить такой подход на более сложных\n",
    "#моделях, так как память ограничена, а сложность модели сильно растет.\n",
    "\n",
    "\n",
    "\n",
    "# level = 50 #будем учитывать только артистов, которых слушали не менне level раз\n",
    "\n",
    "# print(sum(full_df['artist_id'].value_counts() > level))\n",
    "# short_persons = []\n",
    "\n",
    "# for index, value in full_df['artist_id'].value_counts().items():\n",
    "#     if value > level: short_persons.append(index)\n",
    "# print(len(short_persons))"
   ]
  },
  {
   "cell_type": "markdown",
   "metadata": {},
   "source": [
    "Составим списки исполнителей и словарь из названий исполнителя к его id"
   ]
  },
  {
   "cell_type": "code",
   "execution_count": 12,
   "metadata": {},
   "outputs": [],
   "source": [
    "artists = np.unique(full_df['artist_id'])\n",
    "artists_name_to_id = {}\n",
    "\n",
    "counter = 0\n",
    "fp = open(persons_path, 'r')\n",
    "for line in fp:\n",
    "    arr = line.split(\"\\t\")\n",
    "    name = json.loads(arr[3])['name']\n",
    "    counter += 1 \n",
    "    artists_name_to_id[name] = arr[1]"
   ]
  },
  {
   "cell_type": "markdown",
   "metadata": {},
   "source": [
    "Придумаем метрику для оценки результатов. Будем использовать эту метрику на обученных моделяхи валидационных данных для сравнения моделей.\n",
    "Так как у нас задача предсказания следующего исполнителя, то логичным, кажется, исопльзовать что-то на подобие Discounted Cumulative Gain at K, так как неплохо было бы учитвать как правильность варианта, так и порядок.\n",
    "Оценка будет суммой оценок состоящих из частоты встречи в датасете ответа который дала нам наша сеть деленного на место этого ответа. "
   ]
  },
  {
   "cell_type": "code",
   "execution_count": 189,
   "metadata": {},
   "outputs": [],
   "source": [
    "def metric(val_loader, model, k = 3, csv_path = 'bigrams.csv'): #работает только с batch_size = 1\n",
    "    all_list = pd.read_csv(csv_path, index_col = 0)\n",
    "    res_target_arr = []\n",
    "    metric = 0\n",
    "    n = 0\n",
    "    \n",
    "    for context, target in val_loader:\n",
    "        \n",
    "        context = context.to(device) \n",
    "        target = target.to(device) \n",
    "#         print(context.shape)\n",
    "        res = model(context)\n",
    "        \n",
    "        neighbours = ((all_list.loc[all_list['context'] == context.cpu().numpy()[0]])['target'].value_counts())[:k]\n",
    "#         print(neighbours)\n",
    "        \n",
    "        len_of_artist = len(all_list.loc[all_list['context'] == context.cpu().numpy()[0]])\n",
    "        \n",
    "#         print(\"соседи\", neighbours.index.values.tolist())\n",
    "\n",
    "        values, indices = torch.sort(res)\n",
    "        np_indices = indices.cpu().numpy()[0]\n",
    "        \n",
    "        places = []\n",
    "        tmp_metric = 0\n",
    "        for i, neigh in enumerate(neighbours.index.values.tolist()):\n",
    "            places.append(np.where(np_indices == neigh)[0][0])\n",
    "            freq = 0\n",
    "            try:\n",
    "                freq = ((all_list.loc[all_list['context'] == context.cpu().numpy()[0]])['target'].value_counts())[neigh]/len_of_artist\n",
    "            except KeyError:\n",
    "                freq = 0\n",
    "            tmp_metric += freq /(i+1)\n",
    "            \n",
    "            metric += tmp_metric\n",
    "            \n",
    "        n += 1\n",
    "        break;\n",
    "        if n % 1000 == 0: \n",
    "            print('->', end='')\n",
    "    return  metric\n",
    "    "
   ]
  },
  {
   "cell_type": "markdown",
   "metadata": {},
   "source": [
    "Так как задача предсказывать из одного исполнителя другого, то нас интересуют биграммы из датасета, составим их и сохраним"
   ]
  },
  {
   "cell_type": "code",
   "execution_count": null,
   "metadata": {},
   "outputs": [],
   "source": [
    "fp = open(sessions_path, 'r')\n",
    "counter = 0\n",
    "\n",
    "bigrams = []\n",
    "\n",
    "bigrams_df =pd.DataFrame( columns = [\"context\", \"target\"] )\n",
    "\n",
    "bigrams_df.to_csv('bigrams.csv')\n",
    "\n",
    "for line in fp:\n",
    "    arr = line.split(\"\\t\")\n",
    "    tracks_dict = json.loads(arr[3].split(' ')[1])\n",
    "    first, second = \"\", \"\"\n",
    "    for i, ob in enumerate(tracks_dict['objects']):\n",
    "        if len(tracks_dict['objects']) > 2:\n",
    "            curr_artist =  track_person_dict[str(ob['id'])]\n",
    "            if i == 0: first = curr_artist\n",
    "            elif first != curr_artist:\n",
    "                bigrams.append([first,curr_artist])\n",
    "                first = curr_artist\n",
    "            else: first = curr_artist\n",
    "    counter +=1   \n",
    "    if counter % 100000 == 0:\n",
    "        bigrams_df = pd.DataFrame( columns = [\"target\",\"context\"], data = bigrams)\n",
    "#         context_df = pd.DataFrame( columns = [\"context\"], data = context)\n",
    "        bigrams_df.to_csv('bigrams.csv', mode='a', header=False)\n",
    "        print('->', len(bigrams), end = '')\n",
    "        bigrams = []\n",
    "bigrams_df = pd.DataFrame( columns = [\"target\",\"context\"], data = bigrams)\n",
    "bigrams_df.to_csv('bigrams.csv', mode='a', header=False)"
   ]
  },
  {
   "cell_type": "markdown",
   "metadata": {},
   "source": [
    "Для удобства я обернула данные в класс из torch, так удобнее обучать модель"
   ]
  },
  {
   "cell_type": "code",
   "execution_count": 5,
   "metadata": {},
   "outputs": [
    {
     "name": "stderr",
     "output_type": "stream",
     "text": [
      "/home/ev-gud/py3/lib/python3.6/site-packages/numpy/lib/arraysetops.py:569: FutureWarning: elementwise comparison failed; returning scalar instead, but in the future will perform elementwise comparison\n",
      "  mask |= (ar1 == a)\n"
     ]
    },
    {
     "name": "stdout",
     "output_type": "stream",
     "text": [
      "13326355\n"
     ]
    }
   ],
   "source": [
    "class Bigram_dataset(Dataset):\n",
    "    def __init__(self, csv_file, transform = None):\n",
    "        self.transform = transform\n",
    "        csv = pd.read_csv(csv_file, index_col = 0)\n",
    "        self.tensor_target_data = torch.from_numpy( csv['target'].values.astype(np.int64)  )\n",
    "        self.tensor_context_data = torch.from_numpy(csv['context'].values.astype(np.int64)  )\n",
    "        \n",
    "    def __len__(self):\n",
    "        return len(self.tensor_target_data)\n",
    "    def __getitem__(self, idx):\n",
    "        return (self.tensor_context_data[idx], self.tensor_target_data[idx])\n",
    "    \n",
    "ds = Bigram_dataset('bigrams.csv')\n",
    "print(len(ds))"
   ]
  },
  {
   "cell_type": "code",
   "execution_count": 176,
   "metadata": {},
   "outputs": [],
   "source": [
    "TrainData, ValidationData = random_split(ds, [int(len(ds)*0.95), len(ds)-int(len(ds)*0.95)])\n",
    "trainloader = DataLoader(TrainData, batch_size=BATCH_SIZE, shuffle=True)\n",
    "testloader = DataLoader(ValidationData, batch_size=BATCH_SIZE, shuffle=True)"
   ]
  },
  {
   "cell_type": "markdown",
   "metadata": {},
   "source": [
    "Первая, довольно простая модель и её тренировка:"
   ]
  },
  {
   "cell_type": "code",
   "execution_count": 7,
   "metadata": {},
   "outputs": [],
   "source": [
    "CONTEXT_SIZE = 1\n",
    "EMBEDDING_DIM = 100\n",
    "VOCAB_SIZE = int(artists[-1])\n",
    "\n",
    "\n",
    "class EasyEmbeddingModel(nn.Module):\n",
    "\n",
    "    def __init__(self, vocab_size, embedding_dim, context_size):\n",
    "        super(EasyEmbeddingModel, self).__init__()\n",
    "        self.embeddings = nn.Embedding(vocab_size, embedding_dim)\n",
    "        \n",
    "        self.linear1 = nn.Linear(context_size * embedding_dim, vocab_size)\n",
    "        self.norm = nn.BatchNorm1d(vocab_size)\n",
    "\n",
    "    def forward(self, inputs):\n",
    "        embeds = self.embeddings(inputs)\n",
    "        out = self.norm(self.linear1(embeds))\n",
    "        log_probs = F.log_softmax(out, dim=1)\n",
    "        return log_probs\n"
   ]
  },
  {
   "cell_type": "code",
   "execution_count": null,
   "metadata": {},
   "outputs": [],
   "source": [
    "epochs = 1\n",
    "losses = []\n",
    "batch_losses = []\n",
    "loss_function = nn.NLLLoss()\n",
    "model = EasyEmbeddingModel(VOCAB_SIZE, EMBEDDING_DIM, CONTEXT_SIZE).to(device)\n",
    "optimizer = optim.Adam(model.parameters(), lr=0.001)"
   ]
  },
  {
   "cell_type": "code",
   "execution_count": 19,
   "metadata": {
    "scrolled": true
   },
   "outputs": [
    {
     "name": "stdout",
     "output_type": "stream",
     "text": [
      "batch_loss 11.682075500488281 tensor(82955, device='cuda:0', grad_fn=<SelectBackward>)\n",
      "batch_loss 11.056111335754395 tensor(124222, device='cuda:0', grad_fn=<SelectBackward>)\n",
      "batch_loss 15.885376930236816 tensor(228054, device='cuda:0', grad_fn=<SelectBackward>)\n",
      "batch_loss 12.587739944458008 tensor(228054, device='cuda:0', grad_fn=<SelectBackward>)\n",
      "batch_loss 12.509746551513672 tensor(286091, device='cuda:0', grad_fn=<SelectBackward>)\n",
      "batch_loss 12.088662147521973 tensor(286091, device='cuda:0', grad_fn=<SelectBackward>)\n",
      "batch_loss 10.387239456176758 tensor(56683, device='cuda:0', grad_fn=<SelectBackward>)\n",
      "batch_loss 12.299520492553711 tensor(192147, device='cuda:0', grad_fn=<SelectBackward>)\n",
      "batch_loss 8.808643341064453 tensor(192147, device='cuda:0', grad_fn=<SelectBackward>)\n",
      "batch_loss 13.092257499694824 tensor(286091, device='cuda:0', grad_fn=<SelectBackward>)\n",
      "batch_loss 11.176526069641113 tensor(310487, device='cuda:0', grad_fn=<SelectBackward>)\n",
      "batch_loss 11.893946647644043 tensor(53987, device='cuda:0', grad_fn=<SelectBackward>)\n",
      "batch_loss 10.788070678710938 tensor(310487, device='cuda:0', grad_fn=<SelectBackward>)\n",
      "batch_loss 10.510119438171387 tensor(82955, device='cuda:0', grad_fn=<SelectBackward>)\n",
      "batch_loss 14.876029014587402 tensor(46425, device='cuda:0', grad_fn=<SelectBackward>)\n",
      "batch_loss 8.033953666687012 tensor(276125, device='cuda:0', grad_fn=<SelectBackward>)\n",
      "batch_loss 12.032857894897461 tensor(228054, device='cuda:0', grad_fn=<SelectBackward>)\n",
      "batch_loss 14.218865394592285 tensor(310487, device='cuda:0', grad_fn=<SelectBackward>)\n",
      "batch_loss 11.770126342773438 tensor(66215, device='cuda:0', grad_fn=<SelectBackward>)\n",
      "batch_loss 12.580265998840332 tensor(295530, device='cuda:0', grad_fn=<SelectBackward>)\n",
      "batch_loss 10.127803802490234 tensor(286091, device='cuda:0', grad_fn=<SelectBackward>)\n",
      "batch_loss 9.586514472961426 tensor(53987, device='cuda:0', grad_fn=<SelectBackward>)\n",
      "batch_loss 18.214126586914062 tensor(56683, device='cuda:0', grad_fn=<SelectBackward>)\n",
      "batch_loss 14.008849143981934 tensor(42398, device='cuda:0', grad_fn=<SelectBackward>)\n",
      "batch_loss 12.240232467651367 tensor(82955, device='cuda:0', grad_fn=<SelectBackward>)\n",
      "batch_loss 11.19713020324707 tensor(279548, device='cuda:0', grad_fn=<SelectBackward>)\n",
      "batch_loss 12.769668579101562 tensor(372386, device='cuda:0', grad_fn=<SelectBackward>)\n",
      "batch_loss 7.822832107543945 tensor(42398, device='cuda:0', grad_fn=<SelectBackward>)\n",
      "batch_loss 10.574847221374512 tensor(87999, device='cuda:0', grad_fn=<SelectBackward>)\n",
      "batch_loss 13.874155044555664 tensor(467679, device='cuda:0', grad_fn=<SelectBackward>)\n",
      "batch_loss 11.569158554077148 tensor(50474, device='cuda:0', grad_fn=<SelectBackward>)\n",
      "batch_loss 11.690345764160156 tensor(152731, device='cuda:0', grad_fn=<SelectBackward>)\n",
      "batch_loss 11.942187309265137 tensor(336778, device='cuda:0', grad_fn=<SelectBackward>)\n",
      "batch_loss 11.786542892456055 tensor(276125, device='cuda:0', grad_fn=<SelectBackward>)\n",
      "batch_loss 12.288200378417969 tensor(286091, device='cuda:0', grad_fn=<SelectBackward>)\n",
      "batch_loss 10.918045043945312 tensor(29427, device='cuda:0', grad_fn=<SelectBackward>)\n",
      "batch_loss 9.33337116241455 tensor(42398, device='cuda:0', grad_fn=<SelectBackward>)\n",
      "batch_loss 12.125936508178711 tensor(82955, device='cuda:0', grad_fn=<SelectBackward>)\n",
      "batch_loss 14.386674880981445 tensor(286091, device='cuda:0', grad_fn=<SelectBackward>)\n",
      "batch_loss 10.517158508300781 tensor(286091, device='cuda:0', grad_fn=<SelectBackward>)\n",
      "batch_loss 12.335644721984863 tensor(274310, device='cuda:0', grad_fn=<SelectBackward>)\n",
      "batch_loss 10.27988052368164 tensor(299571, device='cuda:0', grad_fn=<SelectBackward>)\n",
      "batch_loss 9.661110877990723 tensor(459788, device='cuda:0', grad_fn=<SelectBackward>)\n",
      "batch_loss 9.737859725952148 tensor(276125, device='cuda:0', grad_fn=<SelectBackward>)\n",
      "batch_loss 12.691070556640625 tensor(229444, device='cuda:0', grad_fn=<SelectBackward>)\n",
      "batch_loss 10.795171737670898 tensor(286091, device='cuda:0', grad_fn=<SelectBackward>)\n",
      "batch_loss 8.362717628479004 tensor(467679, device='cuda:0', grad_fn=<SelectBackward>)\n",
      "batch_loss 12.05517578125 tensor(53362, device='cuda:0', grad_fn=<SelectBackward>)\n",
      "batch_loss 10.811670303344727 tensor(195697, device='cuda:0', grad_fn=<SelectBackward>)\n",
      "batch_loss 9.472518920898438 tensor(225897, device='cuda:0', grad_fn=<SelectBackward>)\n",
      "batch_loss 9.380996704101562 tensor(212391, device='cuda:0', grad_fn=<SelectBackward>)\n",
      "batch_loss 13.39217758178711 tensor(443910, device='cuda:0', grad_fn=<SelectBackward>)\n",
      "batch_loss 9.580595970153809 tensor(246465, device='cuda:0', grad_fn=<SelectBackward>)\n",
      "batch_loss 13.016951560974121 tensor(417177, device='cuda:0', grad_fn=<SelectBackward>)\n",
      "batch_loss 18.423925399780273 tensor(115120, device='cuda:0', grad_fn=<SelectBackward>)\n",
      "batch_loss 8.985507011413574 tensor(276125, device='cuda:0', grad_fn=<SelectBackward>)\n",
      "batch_loss 15.699321746826172 tensor(303603, device='cuda:0', grad_fn=<SelectBackward>)\n",
      "batch_loss 13.760322570800781 tensor(399353, device='cuda:0', grad_fn=<SelectBackward>)\n",
      "batch_loss 12.799128532409668 tensor(246465, device='cuda:0', grad_fn=<SelectBackward>)\n",
      "batch_loss 12.810534477233887 tensor(29145, device='cuda:0', grad_fn=<SelectBackward>)\n",
      "batch_loss 11.331826210021973 tensor(155304, device='cuda:0', grad_fn=<SelectBackward>)\n",
      "batch_loss 11.66969108581543 tensor(195697, device='cuda:0', grad_fn=<SelectBackward>)\n",
      "batch_loss 15.221722602844238 tensor(299571, device='cuda:0', grad_fn=<SelectBackward>)\n",
      "batch_loss 12.62240219116211 tensor(440070, device='cuda:0', grad_fn=<SelectBackward>)\n",
      "batch_loss 9.951630592346191 tensor(242522, device='cuda:0', grad_fn=<SelectBackward>)\n",
      "batch_loss 13.045193672180176 tensor(29692, device='cuda:0', grad_fn=<SelectBackward>)\n",
      "batch_loss 10.790666580200195 tensor(87296, device='cuda:0', grad_fn=<SelectBackward>)\n",
      "batch_loss 19.468364715576172 tensor(451926, device='cuda:0', grad_fn=<SelectBackward>)\n",
      "batch_loss 10.44127082824707 tensor(46425, device='cuda:0', grad_fn=<SelectBackward>)\n",
      "batch_loss 11.017318725585938 tensor(451926, device='cuda:0', grad_fn=<SelectBackward>)\n",
      "batch_loss 13.24264907836914 tensor(290276, device='cuda:0', grad_fn=<SelectBackward>)\n",
      "batch_loss 12.202011108398438 tensor(301487, device='cuda:0', grad_fn=<SelectBackward>)\n",
      "batch_loss 13.938987731933594 tensor(103702, device='cuda:0', grad_fn=<SelectBackward>)\n",
      "batch_loss 15.992403030395508 tensor(154295, device='cuda:0', grad_fn=<SelectBackward>)\n",
      "batch_loss 14.747156143188477 tensor(448656, device='cuda:0', grad_fn=<SelectBackward>)\n",
      "batch_loss 15.899192810058594 tensor(260550, device='cuda:0', grad_fn=<SelectBackward>)\n",
      "batch_loss 12.62950611114502 tensor(42398, device='cuda:0', grad_fn=<SelectBackward>)\n",
      "batch_loss 12.46705436706543 tensor(29427, device='cuda:0', grad_fn=<SelectBackward>)\n",
      "batch_loss 9.76538372039795 tensor(276125, device='cuda:0', grad_fn=<SelectBackward>)\n",
      "batch_loss 12.685269355773926 tensor(291529, device='cuda:0', grad_fn=<SelectBackward>)\n",
      "batch_loss 10.556795120239258 tensor(134178, device='cuda:0', grad_fn=<SelectBackward>)\n",
      "batch_loss 9.354217529296875 tensor(124222, device='cuda:0', grad_fn=<SelectBackward>)\n",
      "batch_loss 12.993993759155273 tensor(174126, device='cuda:0', grad_fn=<SelectBackward>)\n",
      "batch_loss 14.198927879333496 tensor(42011, device='cuda:0', grad_fn=<SelectBackward>)\n",
      "batch_loss 14.478402137756348 tensor(46477, device='cuda:0', grad_fn=<SelectBackward>)\n",
      "batch_loss 12.495316505432129 tensor(75306, device='cuda:0', grad_fn=<SelectBackward>)\n",
      "batch_loss 13.70136833190918 tensor(276125, device='cuda:0', grad_fn=<SelectBackward>)\n",
      "batch_loss 11.695650100708008 tensor(182897, device='cuda:0', grad_fn=<SelectBackward>)\n",
      "batch_loss 14.399561882019043 tensor(415063, device='cuda:0', grad_fn=<SelectBackward>)\n",
      "batch_loss 13.760785102844238 tensor(380133, device='cuda:0', grad_fn=<SelectBackward>)\n",
      "batch_loss 17.61863136291504 tensor(82955, device='cuda:0', grad_fn=<SelectBackward>)\n",
      "batch_loss 12.125163078308105 tensor(438992, device='cuda:0', grad_fn=<SelectBackward>)\n",
      "batch_loss 12.01887035369873 tensor(245923, device='cuda:0', grad_fn=<SelectBackward>)\n",
      "batch_loss 14.37200927734375 tensor(360208, device='cuda:0', grad_fn=<SelectBackward>)\n",
      "batch_loss 9.074195861816406 tensor(359758, device='cuda:0', grad_fn=<SelectBackward>)\n",
      "batch_loss 17.82464599609375 tensor(82955, device='cuda:0', grad_fn=<SelectBackward>)\n",
      "batch_loss 11.673959732055664 tensor(29427, device='cuda:0', grad_fn=<SelectBackward>)\n",
      "batch_loss 13.950174331665039 tensor(107039, device='cuda:0', grad_fn=<SelectBackward>)\n",
      "batch_loss 14.325068473815918 tensor(276626, device='cuda:0', grad_fn=<SelectBackward>)\n",
      "batch_loss 14.583816528320312 tensor(180039, device='cuda:0', grad_fn=<SelectBackward>)\n",
      "batch_loss 15.174049377441406 tensor(17514, device='cuda:0', grad_fn=<SelectBackward>)\n",
      "batch_loss 13.586674690246582 tensor(239723, device='cuda:0', grad_fn=<SelectBackward>)\n",
      "batch_loss 11.902443885803223 tensor(286091, device='cuda:0', grad_fn=<SelectBackward>)\n",
      "batch_loss 12.66197681427002 tensor(252583, device='cuda:0', grad_fn=<SelectBackward>)\n",
      "batch_loss 11.841583251953125 tensor(371939, device='cuda:0', grad_fn=<SelectBackward>)\n",
      "batch_loss 8.516807556152344 tensor(79100, device='cuda:0', grad_fn=<SelectBackward>)\n",
      "batch_loss 11.170101165771484 tensor(467679, device='cuda:0', grad_fn=<SelectBackward>)\n",
      "batch_loss 12.528194427490234 tensor(325151, device='cuda:0', grad_fn=<SelectBackward>)\n",
      "batch_loss 9.764662742614746 tensor(53987, device='cuda:0', grad_fn=<SelectBackward>)\n",
      "batch_loss 8.554889678955078 tensor(377543, device='cuda:0', grad_fn=<SelectBackward>)\n",
      "batch_loss 7.236965656280518 tensor(77884, device='cuda:0', grad_fn=<SelectBackward>)\n",
      "batch_loss 10.895525932312012 tensor(8517, device='cuda:0', grad_fn=<SelectBackward>)\n",
      "batch_loss 10.170145034790039 tensor(67496, device='cuda:0', grad_fn=<SelectBackward>)\n",
      "batch_loss 16.601329803466797 tensor(28378, device='cuda:0', grad_fn=<SelectBackward>)\n",
      "batch_loss 16.013124465942383 tensor(7063, device='cuda:0', grad_fn=<SelectBackward>)\n",
      "batch_loss 18.101360321044922 tensor(434374, device='cuda:0', grad_fn=<SelectBackward>)\n",
      "batch_loss 11.84843635559082 tensor(137881, device='cuda:0', grad_fn=<SelectBackward>)\n",
      "batch_loss 8.949213981628418 tensor(390585, device='cuda:0', grad_fn=<SelectBackward>)\n",
      "batch_loss 12.219503402709961 tensor(440070, device='cuda:0', grad_fn=<SelectBackward>)\n",
      "batch_loss 13.014267921447754 tensor(289130, device='cuda:0', grad_fn=<SelectBackward>)\n",
      "batch_loss 13.725284576416016 tensor(149679, device='cuda:0', grad_fn=<SelectBackward>)\n",
      "batch_loss 10.580242156982422 tensor(155138, device='cuda:0', grad_fn=<SelectBackward>)\n",
      "batch_loss 13.679461479187012 tensor(315902, device='cuda:0', grad_fn=<SelectBackward>)\n",
      "batch_loss 11.846763610839844 tensor(52124, device='cuda:0', grad_fn=<SelectBackward>)\n",
      "batch_loss 13.555063247680664 tensor(134615, device='cuda:0', grad_fn=<SelectBackward>)\n",
      "batch_loss 14.729288101196289 tensor(203537, device='cuda:0', grad_fn=<SelectBackward>)\n",
      "batch_loss 17.54022789001465 tensor(366893, device='cuda:0', grad_fn=<SelectBackward>)\n",
      "batch_loss 13.855694770812988 tensor(152731, device='cuda:0', grad_fn=<SelectBackward>)\n",
      "batch_loss 14.710981369018555 tensor(338072, device='cuda:0', grad_fn=<SelectBackward>)\n",
      "batch_loss 13.661100387573242 tensor(239207, device='cuda:0', grad_fn=<SelectBackward>)\n",
      "batch_loss 13.5117826461792 tensor(152276, device='cuda:0', grad_fn=<SelectBackward>)\n",
      "batch_loss 8.733072280883789 tensor(263077, device='cuda:0', grad_fn=<SelectBackward>)\n",
      "batch_loss 10.094663619995117 tensor(395385, device='cuda:0', grad_fn=<SelectBackward>)\n",
      "batch_loss 11.457448959350586 tensor(104885, device='cuda:0', grad_fn=<SelectBackward>)\n",
      "batch_loss 9.870931625366211 tensor(56683, device='cuda:0', grad_fn=<SelectBackward>)\n",
      "batch_loss 11.927072525024414 tensor(50826, device='cuda:0', grad_fn=<SelectBackward>)\n",
      "batch_loss 13.784523010253906 tensor(286091, device='cuda:0', grad_fn=<SelectBackward>)\n",
      "batch_loss 13.382583618164062 tensor(154295, device='cuda:0', grad_fn=<SelectBackward>)\n",
      "batch_loss 11.06253433227539 tensor(110337, device='cuda:0', grad_fn=<SelectBackward>)\n",
      "batch_loss 13.883049011230469 tensor(297427, device='cuda:0', grad_fn=<SelectBackward>)\n",
      "batch_loss 10.211580276489258 tensor(76742, device='cuda:0', grad_fn=<SelectBackward>)\n",
      "batch_loss 12.729135513305664 tensor(135469, device='cuda:0', grad_fn=<SelectBackward>)\n",
      "batch_loss 8.993368148803711 tensor(246465, device='cuda:0', grad_fn=<SelectBackward>)\n",
      "batch_loss 11.832292556762695 tensor(245930, device='cuda:0', grad_fn=<SelectBackward>)\n",
      "batch_loss 11.90723991394043 tensor(258206, device='cuda:0', grad_fn=<SelectBackward>)\n",
      "batch_loss 11.812926292419434 tensor(139394, device='cuda:0', grad_fn=<SelectBackward>)\n",
      "batch_loss 9.881124496459961 tensor(376931, device='cuda:0', grad_fn=<SelectBackward>)\n",
      "batch_loss 12.945907592773438 tensor(407620, device='cuda:0', grad_fn=<SelectBackward>)\n",
      "batch_loss 11.277917861938477 tensor(440289, device='cuda:0', grad_fn=<SelectBackward>)\n",
      "batch_loss 10.687041282653809 tensor(140477, device='cuda:0', grad_fn=<SelectBackward>)\n",
      "batch_loss 11.899144172668457 tensor(110337, device='cuda:0', grad_fn=<SelectBackward>)\n",
      "batch_loss 14.284100532531738 tensor(50474, device='cuda:0', grad_fn=<SelectBackward>)\n",
      "batch_loss 16.268627166748047 tensor(365824, device='cuda:0', grad_fn=<SelectBackward>)\n",
      "batch_loss 13.2169189453125 tensor(50788, device='cuda:0', grad_fn=<SelectBackward>)\n",
      "batch_loss 10.75246810913086 tensor(403446, device='cuda:0', grad_fn=<SelectBackward>)\n",
      "batch_loss 9.401092529296875 tensor(286091, device='cuda:0', grad_fn=<SelectBackward>)\n",
      "batch_loss 11.375808715820312 tensor(156962, device='cuda:0', grad_fn=<SelectBackward>)\n",
      "batch_loss 7.831528186798096 tensor(400235, device='cuda:0', grad_fn=<SelectBackward>)\n",
      "batch_loss 10.437248229980469 tensor(103797, device='cuda:0', grad_fn=<SelectBackward>)\n",
      "batch_loss 10.79713249206543 tensor(110337, device='cuda:0', grad_fn=<SelectBackward>)\n",
      "batch_loss 14.718219757080078 tensor(322127, device='cuda:0', grad_fn=<SelectBackward>)\n",
      "batch_loss 11.12332820892334 tensor(82955, device='cuda:0', grad_fn=<SelectBackward>)\n",
      "batch_loss 11.360764503479004 tensor(287752, device='cuda:0', grad_fn=<SelectBackward>)\n",
      "batch_loss 14.465822219848633 tensor(362305, device='cuda:0', grad_fn=<SelectBackward>)\n",
      "batch_loss 12.548381805419922 tensor(270519, device='cuda:0', grad_fn=<SelectBackward>)\n",
      "batch_loss 10.152116775512695 tensor(228054, device='cuda:0', grad_fn=<SelectBackward>)\n",
      "batch_loss 11.012622833251953 tensor(293097, device='cuda:0', grad_fn=<SelectBackward>)\n",
      "batch_loss 11.832881927490234 tensor(359281, device='cuda:0', grad_fn=<SelectBackward>)\n",
      "batch_loss 10.69670581817627 tensor(331685, device='cuda:0', grad_fn=<SelectBackward>)\n",
      "batch_loss 10.62010669708252 tensor(273573, device='cuda:0', grad_fn=<SelectBackward>)\n",
      "batch_loss 9.895763397216797 tensor(290008, device='cuda:0', grad_fn=<SelectBackward>)\n",
      "batch_loss 13.096583366394043 tensor(251946, device='cuda:0', grad_fn=<SelectBackward>)\n",
      "batch_loss 9.522838592529297 tensor(200402, device='cuda:0', grad_fn=<SelectBackward>)\n",
      "batch_loss 12.16995620727539 tensor(445063, device='cuda:0', grad_fn=<SelectBackward>)\n",
      "batch_loss 18.043901443481445 tensor(152125, device='cuda:0', grad_fn=<SelectBackward>)\n",
      "batch_loss 14.360528945922852 tensor(20735, device='cuda:0', grad_fn=<SelectBackward>)\n",
      "batch_loss 12.932583808898926 tensor(152725, device='cuda:0', grad_fn=<SelectBackward>)\n",
      "batch_loss 10.644128799438477 tensor(50474, device='cuda:0', grad_fn=<SelectBackward>)\n",
      "batch_loss 14.517237663269043 tensor(276843, device='cuda:0', grad_fn=<SelectBackward>)\n",
      "batch_loss 14.848602294921875 tensor(115120, device='cuda:0', grad_fn=<SelectBackward>)\n",
      "batch_loss 13.289274215698242 tensor(31359, device='cuda:0', grad_fn=<SelectBackward>)\n",
      "batch_loss 14.397751808166504 tensor(28445, device='cuda:0', grad_fn=<SelectBackward>)\n",
      "batch_loss 12.769227981567383 tensor(87999, device='cuda:0', grad_fn=<SelectBackward>)\n",
      "batch_loss 9.695335388183594 tensor(210376, device='cuda:0', grad_fn=<SelectBackward>)\n",
      "batch_loss 12.434675216674805 tensor(400911, device='cuda:0', grad_fn=<SelectBackward>)\n",
      "batch_loss 15.008686065673828 tensor(12595, device='cuda:0', grad_fn=<SelectBackward>)\n",
      "batch_loss 15.67647647857666 tensor(231411, device='cuda:0', grad_fn=<SelectBackward>)\n",
      "batch_loss 7.749727249145508 tensor(167536, device='cuda:0', grad_fn=<SelectBackward>)\n",
      "batch_loss 8.74791431427002 tensor(252849, device='cuda:0', grad_fn=<SelectBackward>)\n",
      "batch_loss 10.476827621459961 tensor(139394, device='cuda:0', grad_fn=<SelectBackward>)\n",
      "batch_loss 10.799784660339355 tensor(204586, device='cuda:0', grad_fn=<SelectBackward>)\n",
      "batch_loss 16.8783016204834 tensor(316207, device='cuda:0', grad_fn=<SelectBackward>)\n",
      "batch_loss 11.902423858642578 tensor(327038, device='cuda:0', grad_fn=<SelectBackward>)\n",
      "batch_loss 12.053558349609375 tensor(44182, device='cuda:0', grad_fn=<SelectBackward>)\n",
      "batch_loss 9.716337203979492 tensor(296008, device='cuda:0', grad_fn=<SelectBackward>)\n",
      "batch_loss 12.833637237548828 tensor(196973, device='cuda:0', grad_fn=<SelectBackward>)\n",
      "batch_loss 17.010173797607422 tensor(354785, device='cuda:0', grad_fn=<SelectBackward>)\n",
      "batch_loss 11.26879596710205 tensor(239207, device='cuda:0', grad_fn=<SelectBackward>)\n",
      "batch_loss 14.8648681640625 tensor(372386, device='cuda:0', grad_fn=<SelectBackward>)\n",
      "batch_loss 13.8382568359375 tensor(276125, device='cuda:0', grad_fn=<SelectBackward>)\n",
      "batch_loss 16.01884651184082 tensor(248009, device='cuda:0', grad_fn=<SelectBackward>)\n",
      "batch_loss 9.945674896240234 tensor(87999, device='cuda:0', grad_fn=<SelectBackward>)\n",
      "batch_loss 9.40335750579834 tensor(446620, device='cuda:0', grad_fn=<SelectBackward>)\n",
      "batch_loss 13.253982543945312 tensor(50826, device='cuda:0', grad_fn=<SelectBackward>)\n",
      "batch_loss 11.674384117126465 tensor(1115, device='cuda:0', grad_fn=<SelectBackward>)\n",
      "batch_loss 10.842107772827148 tensor(144524, device='cuda:0', grad_fn=<SelectBackward>)\n",
      "batch_loss 16.896745681762695 tensor(21353, device='cuda:0', grad_fn=<SelectBackward>)\n",
      "batch_loss 13.026466369628906 tensor(440415, device='cuda:0', grad_fn=<SelectBackward>)\n",
      "batch_loss 16.04247283935547 tensor(42836, device='cuda:0', grad_fn=<SelectBackward>)\n",
      "batch_loss 14.378236770629883 tensor(74637, device='cuda:0', grad_fn=<SelectBackward>)\n",
      "batch_loss 15.057546615600586 tensor(299571, device='cuda:0', grad_fn=<SelectBackward>)\n",
      "batch_loss 10.071832656860352 tensor(457040, device='cuda:0', grad_fn=<SelectBackward>)\n",
      "batch_loss 16.520492553710938 tensor(369396, device='cuda:0', grad_fn=<SelectBackward>)\n",
      "batch_loss 13.301324844360352 tensor(407575, device='cuda:0', grad_fn=<SelectBackward>)\n",
      "batch_loss 11.915584564208984 tensor(434569, device='cuda:0', grad_fn=<SelectBackward>)\n",
      "batch_loss 12.928706169128418 tensor(392961, device='cuda:0', grad_fn=<SelectBackward>)\n",
      "batch_loss 9.441444396972656 tensor(46425, device='cuda:0', grad_fn=<SelectBackward>)\n",
      "batch_loss 13.806139945983887 tensor(287560, device='cuda:0', grad_fn=<SelectBackward>)\n",
      "batch_loss 14.654134750366211 tensor(286091, device='cuda:0', grad_fn=<SelectBackward>)\n",
      "batch_loss 14.764437675476074 tensor(32117, device='cuda:0', grad_fn=<SelectBackward>)\n",
      "batch_loss 13.484151840209961 tensor(97397, device='cuda:0', grad_fn=<SelectBackward>)\n",
      "batch_loss 12.989136695861816 tensor(253241, device='cuda:0', grad_fn=<SelectBackward>)\n"
     ]
    },
    {
     "ename": "KeyboardInterrupt",
     "evalue": "",
     "output_type": "error",
     "traceback": [
      "\u001b[0;31m---------------------------------------------------------------------------\u001b[0m",
      "\u001b[0;31mKeyboardInterrupt\u001b[0m                         Traceback (most recent call last)",
      "\u001b[0;32m<ipython-input-19-7f79a99c1f8d>\u001b[0m in \u001b[0;36m<module>\u001b[0;34m\u001b[0m\n\u001b[1;32m     24\u001b[0m \u001b[0;31m#             print('batch_loss', loss.item(), torch.argmax(log_probs, dim = 1)[0])\u001b[0m\u001b[0;34m\u001b[0m\u001b[0;34m\u001b[0m\u001b[0;34m\u001b[0m\u001b[0m\n\u001b[1;32m     25\u001b[0m         \u001b[0mcounter\u001b[0m \u001b[0;34m+=\u001b[0m \u001b[0;36m1\u001b[0m\u001b[0;34m\u001b[0m\u001b[0;34m\u001b[0m\u001b[0m\n\u001b[0;32m---> 26\u001b[0;31m         \u001b[0mtotal_loss\u001b[0m \u001b[0;34m+=\u001b[0m \u001b[0mloss\u001b[0m\u001b[0;34m.\u001b[0m\u001b[0mitem\u001b[0m\u001b[0;34m(\u001b[0m\u001b[0;34m)\u001b[0m\u001b[0;34m\u001b[0m\u001b[0;34m\u001b[0m\u001b[0m\n\u001b[0m\u001b[1;32m     27\u001b[0m     \u001b[0mprint\u001b[0m\u001b[0;34m(\u001b[0m\u001b[0;34m'EPOCH'\u001b[0m\u001b[0;34m,\u001b[0m \u001b[0mepoch\u001b[0m \u001b[0;34m,\u001b[0m \u001b[0;34m'loss'\u001b[0m\u001b[0;34m,\u001b[0m \u001b[0mtotal_loss\u001b[0m\u001b[0;34m)\u001b[0m\u001b[0;34m\u001b[0m\u001b[0;34m\u001b[0m\u001b[0m\n\u001b[1;32m     28\u001b[0m     \u001b[0mlosses\u001b[0m\u001b[0;34m.\u001b[0m\u001b[0mappend\u001b[0m\u001b[0;34m(\u001b[0m\u001b[0mtotal_loss\u001b[0m\u001b[0;34m)\u001b[0m\u001b[0;34m\u001b[0m\u001b[0;34m\u001b[0m\u001b[0m\n",
      "\u001b[0;31mKeyboardInterrupt\u001b[0m: "
     ]
    }
   ],
   "source": [
    "for epoch in range(epochs):\n",
    "    total_loss = 0\n",
    "    counter = 0\n",
    "    \n",
    "    for context, target in trainloader:\n",
    "        context = context.to(device) \n",
    "        target = target.to(device) \n",
    "        \n",
    "        model.zero_grad()\n",
    "\n",
    "        log_probs = model(context)\n",
    "\n",
    "        loss = loss_function(log_probs, target)\n",
    "\n",
    "        loss.backward()\n",
    "        \n",
    "        optimizer.step()\n",
    "        \n",
    "        \n",
    "        \n",
    "        if counter % 1000 == 0:\n",
    "            batch_losses.append(loss.item())\n",
    "            print('batch_loss', loss.item(), torch.argmax(log_probs, dim = 1)[0])\n",
    "#             print('batch_loss', loss.item(), torch.argmax(log_probs, dim = 1)[0])\n",
    "        counter += 1\n",
    "        total_loss += loss.item()\n",
    "    print('EPOCH', epoch , 'loss', total_loss)\n",
    "    losses.append(total_loss)"
   ]
  },
  {
   "cell_type": "code",
   "execution_count": 21,
   "metadata": {},
   "outputs": [],
   "source": [
    "torch.save(model.state_dict(), 'bigram_model_10eph_small_model2.pth')"
   ]
  },
  {
   "cell_type": "markdown",
   "metadata": {},
   "source": [
    "Значения лосса и график, выглядит не вдохновляюще, однако посмотрим на результаты по другому"
   ]
  },
  {
   "cell_type": "code",
   "execution_count": 20,
   "metadata": {},
   "outputs": [
    {
     "data": {
      "image/png": "[encoded data removed]",
      "text/plain": [
       "<Figure size 432x288 with 1 Axes>"
      ]
     },
     "metadata": {
      "needs_background": "light"
     },
     "output_type": "display_data"
    }
   ],
   "source": [
    "plt.plot(batch_losses)\n",
    "plt.show()"
   ]
  },
  {
   "cell_type": "code",
   "execution_count": 192,
   "metadata": {},
   "outputs": [
    {
     "name": "stdout",
     "output_type": "stream",
     "text": [
      "Длина датасета, на котором будем тестить:  666318\n",
      "Значение метрики: 0.1961492178098676\n"
     ]
    }
   ],
   "source": [
    "testloader = DataLoader(ValidationData, batch_size=1, shuffle=True)\n",
    "print('Длина датасета, на котором будем тестить: ',len(testloader))\n",
    "print(\"Значение метрики:\", metric(testloader, model, k = 3))"
   ]
  },
  {
   "cell_type": "code",
   "execution_count": 193,
   "metadata": {},
   "outputs": [],
   "source": [
    "# name = 'bigram_model_10eph_small_model.pth'\n",
    "# model = EasyEmbeddingModel(VOCAB_SIZE, EMBEDDING_DIM, CONTEXT_SIZE).to(device)   \n",
    "# model.load_state_dict(torch.load(name))"
   ]
  },
  {
   "cell_type": "code",
   "execution_count": 15,
   "metadata": {},
   "outputs": [],
   "source": [
    "def get_top_k(model, k, artist_name):\n",
    "    artist_id = int(artists_name_to_id[artist_name])\n",
    "    model.eval()\n",
    "    res = model(torch.tensor([artist_id], dtype = torch.int64).to(device)).cpu()\n",
    "    values, indices = torch.topk(res, 20)\n",
    "\n",
    "    names = [\"\" for i in range(20)]\n",
    "    for name, ar_id in artists_name_to_id.items():\n",
    "        if int(ar_id) in indices: \n",
    "            index = np.where(indices == int(ar_id))\n",
    "            names[index[1][0]] = urllib.parse.unquote(name)\n",
    "    return names"
   ]
  },
  {
   "cell_type": "code",
   "execution_count": 195,
   "metadata": {},
   "outputs": [],
   "source": [
    "acdc_similar = get_top_k(model, 20, \"ACDC\")\n",
    "madonna_similar = get_top_k(model, 20, \"Madonna\")\n",
    "bonjovi_similar = get_top_k(model, 20, \"Bon+Jovi\")\n",
    "Rihanna_similar = get_top_k(model, 20, \"Rihanna\")"
   ]
  },
  {
   "cell_type": "code",
   "execution_count": 196,
   "metadata": {},
   "outputs": [
    {
     "name": "stdout",
     "output_type": "stream",
     "text": [
      "['Metallica+&+Korn', 'Queen+&+Wyclef+Jean+(featuring+Pras+Michael+&+Free)', 'Aerosmith+&+Carrie+Underwood', 'The+Beatles,+Brian+Matthew', 'Hardline', 'AC+DC', 'R+U+S+H', 'Iron+Maiden', 'Deep+Purple', 'Judas+Priest', 'Freddie+Mercury+&+Montserrat+Caballé', 'Alice+Cooper+&+Ozzy+Osbourne+&+Joe+Satriani+&+Slash', 'Blind+Guardian', 'Europe', 'Nazareth', 'Manowar', 'Bon+Jovi', 'Pink+Floud', 'Nirvana', 'Def+Leppard']\n",
      "\n",
      "[\"Lady+Gaga+Featuring+Colby+O'Donis\", 'britney+spears+feat.+pharrel+williams', 'Madonna&Justin+Timberlake', 'Marina+&+the+Diamonds', 'Mariah+Carey+feat.+Twista', 'Lorde', 'Lana+Del+Rey+(www.hitov.ru)', 'Rihanna+feat.+Drake', 'Katy+Perry+-+www.SongsLover.com', 'David+Guetta+&+Avicii+vs.+Laidback+Luke', 'Ellie+Goulding', 'Beyonce', 'Maroon+5+&+Christina+Aguilera', 'Kylie+Minogue+&+Nick+Kave', 'Nico+&+Vlad', 'Coldplay', 'Clean+Bandit+feat.+Stylo+G', 'Michael+Jackson;', 'Taylor+Swift+feat.+The+Civil+Wars', 'Black+Keys+&+Dirty+Streets']\n",
      "\n",
      "['Queen+&+Wyclef+Jean+(featuring+Pras+Michael+&+Free)', 'Blind+Guardian', 'Metallica+&+Korn', 'Deep+Purple', 'B.o.B', 'Aerosmith+&+Carrie+Underwood', 'Alice+Cooper+&+Ozzy+Osbourne+&+Joe+Satriani+&+Slash', 'R+U+S+H', 'Knack', 'Hardline', 'Bon+Jovi', 'Iron+Maiden', 'Billy+Joel+&+me', 'Blur', 'Europe', 'Led+Zeppelin', 'Freddie+Mercury+&+Montserrat+Caballé', 'AC+DC', 'The+Beatles,+Brian+Matthew', \"The+Rolling+Stones+&+Guns+n'+Roses\"]\n",
      "\n",
      "[\"Lady+Gaga+Featuring+Colby+O'Donis\", 'Beyonce', 'Taylor+Swift+feat.+The+Civil+Wars', 'Lorde', 'britney+spears+feat.+pharrel+williams', 'OneRepublic+&+Alesso', 'David+Guetta+&+Avicii+vs.+Laidback+Luke', 'One+Direction', 'Ariana+Grande+Feat.+The+Weeknd', 'Clean+Bandit+feat.+Stylo+G', 'Madonna&Justin+Timberlake', \"Destiny's+Child\", 'Maroon+5+&+Christina+Aguilera', 'Lana+Del+Rey+(www.hitov.ru)', 'Kylie+Minogue+&+Nick+Kave', 'Rihanna+feat.+Drake', 'Pussycat+Dolls', 'Ke$ha+&+Pitbull', 'Fall+Out+Boy+&+Cobra+Starship+(to+K.+Perry)', 'Marina+&+the+Diamonds']\n",
      "\n"
     ]
    }
   ],
   "source": [
    "print(acdc_similar, end = '\\n\\n')\n",
    "print(madonna_similar, end = '\\n\\n')\n",
    "print(bonjovi_similar, end = '\\n\\n')\n",
    "print(Rihanna_similar, end = '\\n\\n')"
   ]
  },
  {
   "cell_type": "markdown",
   "metadata": {},
   "source": [
    "По этим первичным результатам видно, что данные на самом деле очень грязные и содержат не только имена исполнителей, но иногда и всякий мусор, а также было замечено что имена одинаковых исполнителей погут повторятся с небольшими изменинеиями (вроде отсутсвия пробела или других символов), кажется, такое надо вычищать из датасета вручную.\n",
    "А так же под одними и теми же id скрываются несколько имен, поэтому можно встретить песни с двумя авторами в списке выше, но они в данных обозначены одним id, на сколько я понимаю, первым исполнителем в списке.\n",
    "Еще так как я взяла за размер словоря последний id, то не все id на самом деле существуют в датасете, но их там относительно немного."
   ]
  },
  {
   "cell_type": "markdown",
   "metadata": {},
   "source": [
    "Из этих результатов можно увидеть, что похожие исполнители для этих музыкантов разные и в общем, хочется сказать что даже похожи на правду. \n",
    "Так как я впервые реализовывала подобный функционал, я лишь читала о более сложных моделях и не дошла до их имплементации. (читала про DLRM, RNN based подходы, и в общем разные статьи про item-to-item recommendation)"
   ]
  }
 ],
 "metadata": {
  "kernelspec": {
   "display_name": "Python 3",
   "language": "python",
   "name": "python3"
  },
  "language_info": {
   "codemirror_mode": {
    "name": "ipython",
    "version": 3
   },
   "file_extension": ".py",
   "mimetype": "text/x-python",
   "name": "python",
   "nbconvert_exporter": "python",
   "pygments_lexer": "ipython3",
   "version": "3.7.6"
  }
 },
 "nbformat": 4,
 "nbformat_minor": 4
}
